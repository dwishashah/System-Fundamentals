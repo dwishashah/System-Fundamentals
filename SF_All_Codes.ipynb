{
  "nbformat": 4,
  "nbformat_minor": 0,
  "metadata": {
    "colab": {
      "provenance": [],
      "authorship_tag": "ABX9TyPmgWJ0h9v7G+djBFh3ZNxj",
      "include_colab_link": true
    },
    "kernelspec": {
      "name": "python3",
      "display_name": "Python 3"
    },
    "language_info": {
      "name": "python"
    }
  },
  "cells": [
    {
      "cell_type": "markdown",
      "metadata": {
        "id": "view-in-github",
        "colab_type": "text"
      },
      "source": [
        "<a href=\"https://colab.research.google.com/github/dwishashah/System-Fundamentals/blob/main/SF_All_Codes.ipynb\" target=\"_parent\"><img src=\"https://colab.research.google.com/assets/colab-badge.svg\" alt=\"Open In Colab\"/></a>"
      ]
    },
    {
      "cell_type": "markdown",
      "source": [
        "First In First Out Disk Scheduling ALgorithm"
      ],
      "metadata": {
        "id": "apRquqP4A_HG"
      }
    },
    {
      "cell_type": "code",
      "execution_count": null,
      "metadata": {
        "colab": {
          "base_uri": "https://localhost:8080/"
        },
        "id": "TD6w0gNGni8g",
        "outputId": "5f705aee-4314-4703-93c7-07851ae77594"
      },
      "outputs": [
        {
          "output_type": "stream",
          "name": "stdout",
          "text": [
            "Total seek time is:\n",
            "510\n",
            "Sequence is:\n",
            "176\n",
            "79\n",
            "34\n",
            "60\n",
            "92\n",
            "11\n",
            "41\n",
            "114\n"
          ]
        }
      ],
      "source": [
        "#FIFO\n",
        "\n",
        "size = 8\n",
        "def FIFO(arr,head):\n",
        "  seek_time = 0\n",
        "  distance = 0\n",
        "  current_track = 0\n",
        "\n",
        "  for i in range(size):\n",
        "    current_track = arr[i]\n",
        "    distance = abs(current_track-head)\n",
        "    seek_time = seek_time + distance\n",
        "    head = current_track\n",
        "  \n",
        "  print(\"Total seek time is:\")\n",
        "  print(seek_time)\n",
        "\n",
        "  print(\"Sequence is:\")\n",
        "  for i in range(size):\n",
        "   print(arr[i])\n",
        "\n",
        "arr = [ 176, 79, 34, 60, 92, 11, 41, 114 ];\n",
        "head = 50\n",
        "FIFO(arr,head)"
      ]
    },
    {
      "cell_type": "markdown",
      "source": [
        "Shortest Seek Time First Disk Scheduling Algorithm"
      ],
      "metadata": {
        "id": "4ucrQAhfBQbY"
      }
    },
    {
      "cell_type": "code",
      "source": [
        "#SSTF\n",
        "\n",
        "def SSTF(arr,head):\n",
        "  cur_track = head\n",
        "  seek_count = 0\n",
        "  seek_seq = []\n",
        "\n",
        "  while len(arr) > 0:\n",
        "    distance = []\n",
        "\n",
        "    for r in arr:\n",
        "      distance.append(abs(cur_track-r))\n",
        "\n",
        "    shortest_index = distance.index(min(distance))\n",
        "    shortest_req = arr[shortest_index]\n",
        "    seek_count += min(distance)\n",
        "    \n",
        "    seek_seq.append(shortest_req)\n",
        "    cur_track = shortest_req\n",
        "    arr.remove(shortest_req)\n",
        "\n",
        "\n",
        "  print(\"The seek time is\")\n",
        "  print(seek_count)\n",
        "\n",
        "  print(\"The sequence is:\")\n",
        "  for i in range(len(seek_seq)):\n",
        "    print(seek_seq[i])\n",
        "\n",
        "arr = [ 176, 79, 34, 60, 92, 11, 41, 114 ]\n",
        "head = 50\n",
        "\n",
        "\n",
        "SSTF(arr, head)"
      ],
      "metadata": {
        "colab": {
          "base_uri": "https://localhost:8080/"
        },
        "id": "JJF1p9cOp1T1",
        "outputId": "ccbdc60b-ec47-4005-d7ea-29577d0059b7"
      },
      "execution_count": null,
      "outputs": [
        {
          "output_type": "stream",
          "name": "stdout",
          "text": [
            "The seek time is\n",
            "204\n",
            "The sequence is:\n",
            "41\n",
            "34\n",
            "11\n",
            "60\n",
            "79\n",
            "92\n",
            "114\n",
            "176\n"
          ]
        }
      ]
    },
    {
      "cell_type": "markdown",
      "source": [
        "SCAN Disk Scheduling Algorithm"
      ],
      "metadata": {
        "id": "97QGfH5LBXjX"
      }
    },
    {
      "cell_type": "code",
      "source": [
        "#SCAN\n",
        "\n",
        "size = 8\n",
        "disk_size = 200\n",
        "\n",
        "\n",
        "def SCAN(arr,head,direction):\n",
        "  \n",
        "  seek_count = 0\n",
        "  distance = 0\n",
        "  cur_track = 0\n",
        "  left = []\n",
        "  right = []\n",
        "  seek_seq = []\n",
        "\n",
        "  if (direction=='left'):\n",
        "    left.append(0)\n",
        "  elif (direction=='right'):\n",
        "    right.append(disk_size-1)\n",
        "  \n",
        "  for i in range(size):\n",
        "    if(arr[i]<head):\n",
        "      left.append(arr[i])\n",
        "    if(arr[i]>head):\n",
        "      right.append(arr[i])\n",
        "\n",
        "  left.sort()\n",
        "  right.sort()\n",
        "\n",
        "  run = 2\n",
        "  while(run!=0):\n",
        "    if(direction=='left'):\n",
        "      for i in range(len(left)-1,-1,-1):\n",
        "        cur_track = left[i]\n",
        "        seek_seq.append(cur_track)\n",
        "        distance = abs(cur_track-head)\n",
        "        seek_count += distance\n",
        "        head = cur_track\n",
        "      direction = 'right'\n",
        "\n",
        "    elif (direction=='right'):\n",
        "      for i in range(len(right)):\n",
        "        cur_track = right[i]\n",
        "        seek_seq.append(cur_track)\n",
        "        distance = abs(cur_track-head)\n",
        "        seek_count += distance\n",
        "        head = cur_track\n",
        "      direction = 'left'\n",
        "    run -=1\n",
        "\n",
        "  print(\"Total number of seek operations =\")\n",
        "  print(seek_count)\n",
        "\n",
        "  print(\"Seek Sequence is\")\n",
        "\n",
        "  for i in range(len(seek_seq)):\n",
        "\t  print(seek_seq[i])\n",
        "\n",
        "\n",
        "arr = [ 176, 79, 34, 60, 92, 11, 41, 114 ]\n",
        "head = 50\n",
        "direction = \"left\"\n",
        "\n",
        "SCAN(arr, head, direction)"
      ],
      "metadata": {
        "colab": {
          "base_uri": "https://localhost:8080/"
        },
        "id": "A2TtG672rbPU",
        "outputId": "06c6d769-5e98-463f-9b81-9f085bbed8ee"
      },
      "execution_count": null,
      "outputs": [
        {
          "output_type": "stream",
          "name": "stdout",
          "text": [
            "Total number of seek operations =\n",
            "226\n",
            "Seek Sequence is\n",
            "41\n",
            "34\n",
            "11\n",
            "0\n",
            "60\n",
            "79\n",
            "92\n",
            "114\n",
            "176\n"
          ]
        }
      ]
    },
    {
      "cell_type": "markdown",
      "source": [
        "C-SCAN Disk Scheduling Algorithm"
      ],
      "metadata": {
        "id": "ZZ1C2RXtBb_g"
      }
    },
    {
      "cell_type": "code",
      "source": [
        "#C-SCAN\n",
        "\n",
        "size = 8\n",
        "disk_size = 200\n",
        "\n",
        "\n",
        "def CSCAN(arr,head):\n",
        "  \n",
        "  seek_count = 0\n",
        "  distance = 0\n",
        "  cur_track = 0\n",
        "  left = []\n",
        "  right = []\n",
        "  seek_seq = []\n",
        "\n",
        "  left.append(0)\n",
        "  right.append(disk_size-1)\n",
        "\n",
        "  for i in range(size):\n",
        "    if (arr[i]<head):\n",
        "      left.append(arr[i])\n",
        "    if (arr[i]>head):\n",
        "      right.append(arr[i])\n",
        "\n",
        "  left.sort()\n",
        "  right.sort()\n",
        "\n",
        "  for i in range(len(right)):\n",
        "    cur_track = right[i]\n",
        "    seek_seq.append(cur_track)\n",
        "    distance = abs(cur_track-head) \n",
        "    seek_count += distance\n",
        "    head = cur_track\n",
        "  head = 0\n",
        "  seek_count =+ (disk_size-1)\n",
        "\n",
        "  for i in range(len(left)):\n",
        "    cur_track = left[i]\n",
        "    seek_seq.append(cur_track)\n",
        "    distance = abs(cur_track-head) \n",
        "    seek_count += distance\n",
        "    head = cur_track\n",
        "\n",
        "  print(\"The seek count is:\")\n",
        "  print(seek_count)\n",
        "\n",
        "  print(\"The seek sequence is:\")\n",
        "  for i in range(len(seek_seq)):\n",
        "    print(seek_seq[i])\n",
        "\n",
        "\n",
        "arr = [176, 79, 34, 60, 92, 11, 41, 114]\n",
        "head = 50\n",
        "\n",
        "print(\"Initial position of head:\", head)\n",
        "\n",
        "CSCAN(arr, head)"
      ],
      "metadata": {
        "colab": {
          "base_uri": "https://localhost:8080/"
        },
        "id": "MivLua6A3BJ3",
        "outputId": "974b4d88-8954-4026-c303-00d28aa012b3"
      },
      "execution_count": null,
      "outputs": [
        {
          "output_type": "stream",
          "name": "stdout",
          "text": [
            "Initial position of head: 50\n",
            "The seek count is:\n",
            "240\n",
            "The seek sequence is:\n",
            "60\n",
            "79\n",
            "92\n",
            "114\n",
            "176\n",
            "199\n",
            "0\n",
            "11\n",
            "34\n",
            "41\n"
          ]
        }
      ]
    },
    {
      "cell_type": "markdown",
      "source": [
        "LOOK Disk Scheduling Algorithm"
      ],
      "metadata": {
        "id": "oyUQz2heBmQC"
      }
    },
    {
      "cell_type": "code",
      "source": [
        "#LOOK\n",
        "\n",
        "\n",
        "size = 8\n",
        "disk_size = 200\n",
        "\n",
        "\n",
        "def LOOK(arr,head,direction):\n",
        "  \n",
        "  seek_count = 0\n",
        "  distance = 0\n",
        "  cur_track = 0\n",
        "  left = []\n",
        "  right = []\n",
        "  seek_seq = []\n",
        "  \n",
        "  for i in range(size):\n",
        "    if(arr[i]<head):\n",
        "      left.append(arr[i])\n",
        "    if(arr[i]>head):\n",
        "      right.append(arr[i])\n",
        "\n",
        "  left.sort()\n",
        "  right.sort()\n",
        "\n",
        "  run = 2\n",
        "  while(run):\n",
        "    if(direction=='left'):\n",
        "      for i in range(len(left)-1,-1,-1):\n",
        "        cur_track = left[i]\n",
        "        seek_seq.append(cur_track)\n",
        "        distance = abs(cur_track-head)\n",
        "        seek_count += distance\n",
        "        head = cur_track\n",
        "      direction = 'right'\n",
        "\n",
        "    elif (direction=='right'):\n",
        "      for i in range(len(right)):\n",
        "        cur_track = right[i]\n",
        "        seek_seq.append(cur_track)\n",
        "        distance = abs(cur_track-head)\n",
        "        seek_count += distance\n",
        "        head = cur_track\n",
        "      direction = 'left'\n",
        "    run -=1\n",
        "\n",
        "  print(\"Total number of seek operations =\")\n",
        "  print(seek_count)\n",
        "\n",
        "  print(\"Seek Sequence is\")\n",
        "\n",
        "  for i in range(len(seek_seq)):\n",
        "\t  print(seek_seq[i])\n",
        "\n",
        "\n",
        "arr = [ 176, 79, 34, 60, 92, 11, 41, 114 ]\n",
        "head = 50\n",
        "direction = \"right\"\n",
        "\n",
        "LOOK(arr, head, direction)"
      ],
      "metadata": {
        "colab": {
          "base_uri": "https://localhost:8080/"
        },
        "id": "uAlxAHoZ78FE",
        "outputId": "eb6a0842-47e1-44f4-b883-d2f3acbd2a0a"
      },
      "execution_count": null,
      "outputs": [
        {
          "output_type": "stream",
          "name": "stdout",
          "text": [
            "Total number of seek operations =\n",
            "291\n",
            "Seek Sequence is\n",
            "60\n",
            "79\n",
            "92\n",
            "114\n",
            "176\n",
            "41\n",
            "34\n",
            "11\n"
          ]
        }
      ]
    },
    {
      "cell_type": "markdown",
      "source": [
        "C-LOOK Disk Scheduling Algorithm"
      ],
      "metadata": {
        "id": "6H1d7niiBoSz"
      }
    },
    {
      "cell_type": "code",
      "source": [
        "#C-LOOK\n",
        "\n",
        "size = 8\n",
        "disk_size = 200\n",
        "\n",
        "\n",
        "def CLOOK(arr,head):\n",
        "  \n",
        "  seek_count = 0\n",
        "  distance = 0\n",
        "  cur_track = 0\n",
        "  left = []\n",
        "  right = []\n",
        "  seek_seq = []\n",
        "\n",
        "  for i in range(size):\n",
        "    if (arr[i]<head):\n",
        "      left.append(arr[i])\n",
        "    if (arr[i]>head):\n",
        "      right.append(arr[i])\n",
        "\n",
        "  left.sort()\n",
        "  right.sort()\n",
        "\n",
        "  for i in range(len(right)):\n",
        "    cur_track = right[i]\n",
        "    seek_seq.append(cur_track)\n",
        "    distance = abs(cur_track-head) \n",
        "    seek_count += distance\n",
        "    head = cur_track\n",
        "  \n",
        "  seek_count += abs(head - left[0])\n",
        "  head = left[0]\n",
        "\n",
        "  for i in range(len(left)):\n",
        "    cur_track = left[i]\n",
        "    seek_seq.append(cur_track)\n",
        "    distance = abs(cur_track-head) \n",
        "    seek_count += distance\n",
        "    head = cur_track\n",
        "\n",
        "  print(\"The seek count is:\")\n",
        "  print(seek_count)\n",
        "\n",
        "  print(\"The seek sequence is:\")\n",
        "  for i in range(len(seek_seq)):\n",
        "    print(seek_seq[i])\n",
        "\n",
        "\n",
        "arr = [176, 79, 34, 60, 92, 11, 41, 114]\n",
        "head = 50\n",
        "\n",
        "print(\"Initial position of head:\", head)\n",
        "\n",
        "CLOOK(arr, head)"
      ],
      "metadata": {
        "colab": {
          "base_uri": "https://localhost:8080/"
        },
        "id": "Vt6cu5YWAJO-",
        "outputId": "20a73f19-7f24-4577-d0f7-86c0561ed6ad"
      },
      "execution_count": null,
      "outputs": [
        {
          "output_type": "stream",
          "name": "stdout",
          "text": [
            "Initial position of head: 50\n",
            "The seek count is:\n",
            "321\n",
            "The seek sequence is:\n",
            "60\n",
            "79\n",
            "92\n",
            "114\n",
            "176\n",
            "11\n",
            "34\n",
            "41\n"
          ]
        }
      ]
    },
    {
      "cell_type": "code",
      "source": [
        "import numpy as np\n",
        "import pandas as pd"
      ],
      "metadata": {
        "id": "o8pXLm2gbSFO"
      },
      "execution_count": null,
      "outputs": []
    },
    {
      "cell_type": "markdown",
      "source": [
        "Shortest Job First CPU SCheduling Algorithm"
      ],
      "metadata": {
        "id": "jkTF6JtTBq9l"
      }
    },
    {
      "cell_type": "code",
      "source": [
        "#SJF\n",
        "\n",
        "def SJF(process,BT,AT,n):\n",
        "  df = pd.DataFrame(columns=['process','BT','AT','CT','TAT','WT'])\n",
        "\n",
        "  for i in range(0,n):\n",
        "    df['process'] = process\n",
        "    df['AT'] = AT\n",
        "    df['BT'] = BT\n",
        "\n",
        "  df = df.sort_values('BT')\n",
        "  df = df.reset_index()\n",
        "\n",
        "  sum = 0\n",
        "  \n",
        "  for i in range (n):\n",
        "    sum = sum + df['BT'][i]\n",
        "    df['CT'][i] = sum\n",
        "\n",
        "  df['TAT'] = df['CT'] - df['AT']\n",
        "  df['WT'] = df['TAT'] - df['BT']\n",
        "\n",
        "  print(\"Avg waiting time:\",df['WT'].mean())\n",
        "  print(\"Avg TAT time:\",df['TAT'].mean())\n",
        "\n",
        "  print(df)\n",
        "\n",
        "process = ['p1','p2','p3','p4']\n",
        "BT = [6,7,8,3]\n",
        "AT = [0,0,0,0]\n",
        "n = 4\n",
        "SJF(process,BT,AT,n)"
      ],
      "metadata": {
        "colab": {
          "base_uri": "https://localhost:8080/"
        },
        "id": "9cRWEM7DBFyi",
        "outputId": "4c620e8c-aa3b-4f05-945f-a9f91879be7f"
      },
      "execution_count": null,
      "outputs": [
        {
          "output_type": "stream",
          "name": "stdout",
          "text": [
            "Avg waiting time: 7.0\n",
            "Avg TAT time: 13.0\n",
            "   index process  BT  AT  CT TAT  WT\n",
            "0      3      p4   3   0   3   3   0\n",
            "1      0      p1   6   0   9   9   3\n",
            "2      1      p2   7   0  16  16   9\n",
            "3      2      p3   8   0  24  24  16\n"
          ]
        },
        {
          "output_type": "stream",
          "name": "stderr",
          "text": [
            "<ipython-input-31-4d8307d14dbf>:18: SettingWithCopyWarning: \n",
            "A value is trying to be set on a copy of a slice from a DataFrame\n",
            "\n",
            "See the caveats in the documentation: https://pandas.pydata.org/pandas-docs/stable/user_guide/indexing.html#returning-a-view-versus-a-copy\n",
            "  df['CT'][i] = sum\n"
          ]
        }
      ]
    },
    {
      "cell_type": "markdown",
      "source": [
        "First Come First Serve CPU SCheduling Algorithm"
      ],
      "metadata": {
        "id": "gamjpKl4BxOW"
      }
    },
    {
      "cell_type": "code",
      "source": [
        "#FCFS\n",
        "\n",
        "def FCFS(process,BT,AT,n):\n",
        "  df = pd.DataFrame(columns=['process','BT','AT','CT','TAT','WT'])\n",
        "\n",
        "  for i in range(0,n):\n",
        "    df['process'] = process\n",
        "    df['AT'] = AT\n",
        "    df['BT'] = BT\n",
        "\n",
        "  df = df.sort_values('AT')\n",
        "\n",
        "  sum = 0\n",
        "  \n",
        "  for i in range (n):\n",
        "    sum = sum + df['BT'][i]\n",
        "    df['CT'][i] = sum\n",
        "\n",
        "  df['TAT'] = df['CT'] - df['AT']\n",
        "  df['WT'] = df['TAT'] - df['BT']\n",
        "\n",
        "  print(\"Avg waiting time:\",df['WT'].mean())\n",
        "  print(\"Avg TAT time:\",df['TAT'].mean())\n",
        "\n",
        "  print(df)\n",
        "\n",
        "process = ['p1','p2','p3','p4']\n",
        "BT = [6,7,8,3]\n",
        "AT = [0,0,0,0]\n",
        "n = 4\n",
        "FCFS(process,BT,AT,n)"
      ],
      "metadata": {
        "colab": {
          "base_uri": "https://localhost:8080/"
        },
        "id": "jvK8BB8HHYsH",
        "outputId": "b011e93d-a944-4dcf-99ec-a1d11e8564e8"
      },
      "execution_count": null,
      "outputs": [
        {
          "output_type": "stream",
          "name": "stdout",
          "text": [
            "Avg waiting time: 10.0\n",
            "Avg TAT time: 16.0\n",
            "  process  BT  AT  CT TAT  WT\n",
            "0      p1   6   0   6   6   0\n",
            "1      p2   7   0  13  13   6\n",
            "2      p3   8   0  21  21  13\n",
            "3      p4   3   0  24  24  21\n"
          ]
        },
        {
          "output_type": "stream",
          "name": "stderr",
          "text": [
            "<ipython-input-3-ad88fc6caccd>:17: SettingWithCopyWarning: \n",
            "A value is trying to be set on a copy of a slice from a DataFrame\n",
            "\n",
            "See the caveats in the documentation: https://pandas.pydata.org/pandas-docs/stable/user_guide/indexing.html#returning-a-view-versus-a-copy\n",
            "  df['CT'][i] = sum\n"
          ]
        }
      ]
    },
    {
      "cell_type": "markdown",
      "source": [
        "Priority CPU SCheduling Algorithm"
      ],
      "metadata": {
        "id": "-h3o-zb7B4JG"
      }
    },
    {
      "cell_type": "code",
      "source": [
        "#PRIORITY\n",
        "\n",
        "def Priority(proc,BT,AT,n,PR):\n",
        "  df1 = pd.DataFrame(columns=['proc','BT','AT','TAT','CT','WT','PR'])\n",
        "\n",
        "  for i in range(0,n):\n",
        "    df1['proc'] = proc\n",
        "    df1['BT'] = BT\n",
        "    df1['AT'] = AT\n",
        "    df1['PR'] = PR\n",
        "\n",
        "  df1 = df1.sort_values('PR')\n",
        "  sum = 0\n",
        "\n",
        "  for i in range(n):\n",
        "    sum = sum + df1['BT'][i]\n",
        "    df1['CT'][i] = sum\n",
        "\n",
        "  df1['TAT'] = df1['CT'] - df1['AT']\n",
        "  df1['WT'] = df1['TAT'] - df1['BT']\n",
        "\n",
        "  print(\"Avg waiting time:\",df1['WT'].mean())\n",
        "  print(\"Avg TAT time:\",df1['TAT'].mean())\n",
        "\n",
        "  print(df1)\n",
        "\n",
        "\n",
        "proc = ['p1','p2','p3']\n",
        "BT = [9,4,9]\n",
        "AT = [0,0,0]\n",
        "PR = [2,1,3]\n",
        "n = 3\n",
        "\n",
        "Priority(proc,BT,AT,n,PR)"
      ],
      "metadata": {
        "colab": {
          "base_uri": "https://localhost:8080/"
        },
        "id": "PGy-B6XzcE_n",
        "outputId": "5e11be73-4bad-4bbc-9941-4e0f862978bf"
      },
      "execution_count": null,
      "outputs": [
        {
          "output_type": "stream",
          "name": "stdout",
          "text": [
            "Avg waiting time: 7.333333333333333\n",
            "Avg TAT time: 14.666666666666666\n",
            "  proc  BT  AT TAT  CT  WT  PR\n",
            "1   p2   4   0  13  13   9   1\n",
            "0   p1   9   0   9   9   0   2\n",
            "2   p3   9   0  22  22  13   3\n"
          ]
        },
        {
          "output_type": "stream",
          "name": "stderr",
          "text": [
            "<ipython-input-33-a6416b1938ef>:17: SettingWithCopyWarning: \n",
            "A value is trying to be set on a copy of a slice from a DataFrame\n",
            "\n",
            "See the caveats in the documentation: https://pandas.pydata.org/pandas-docs/stable/user_guide/indexing.html#returning-a-view-versus-a-copy\n",
            "  df1['CT'][i] = sum\n"
          ]
        }
      ]
    },
    {
      "cell_type": "markdown",
      "source": [
        "Best Fit Memory allocation policy"
      ],
      "metadata": {
        "id": "IDjuQXAjB9BD"
      }
    },
    {
      "cell_type": "code",
      "source": [
        "#best fit\n",
        "\n",
        "def BF(blockSize, m, processSize, n):\n",
        "    allocation = [-1]*n\n",
        "\n",
        "    for i in range(n):\n",
        "        # print(processSize[i])\n",
        "        for j in range(m):\n",
        "            BBlock = []\n",
        "            for block in blockSize:\n",
        "                if block>processSize[i]:\n",
        "                    BBlock.append(block)\n",
        "            bblock=min(BBlock)\n",
        "            # print(bblock)\n",
        "            j = blockSize.index(bblock)\n",
        "            allocation[i]= j\n",
        "            blockSize[j] -= processSize[i]\n",
        "            break\n",
        "\n",
        "    print(\" Process No. Process Size\t Block no.\")\n",
        "    for i in range(n):\n",
        "        print(\" \", i + 1, \"\t\t \", processSize[i],\n",
        "              \"\t\t \", end=\" \")\n",
        "        if allocation[i] != -1:\n",
        "            print(allocation[i] + 1)\n",
        "        else:\n",
        "            print(\"Not Allocated\")\n",
        "blockSize = [100, 500, 200, 300, 600]\n",
        "processSize = [212, 417, 112, 426]\n",
        "m = len(blockSize)\n",
        "n = len(processSize)\n",
        "BF(blockSize,m, processSize, n)\n"
      ],
      "metadata": {
        "colab": {
          "base_uri": "https://localhost:8080/"
        },
        "id": "CuVIgEG8gg7Y",
        "outputId": "75ad41dc-db48-4640-98d9-7090162d9960"
      },
      "execution_count": null,
      "outputs": [
        {
          "output_type": "stream",
          "name": "stdout",
          "text": [
            " Process No. Process Size\t Block no.\n",
            "  1 \t\t  212 \t\t  4\n",
            "  2 \t\t  417 \t\t  2\n",
            "  3 \t\t  112 \t\t  3\n",
            "  4 \t\t  426 \t\t  5\n"
          ]
        }
      ]
    },
    {
      "cell_type": "markdown",
      "source": [
        "Worst Fit Memory allocation policy"
      ],
      "metadata": {
        "id": "bdUrsvKdB-W-"
      }
    },
    {
      "cell_type": "code",
      "source": [
        "# Worst Fit\n",
        "\n",
        "def WF(blockSize, m, processSize, n):\n",
        "    allocation = [-1]*n\n",
        "\n",
        "\n",
        "    for i in range(n):\n",
        "        # print(processSize[i])\n",
        "        if max(blockSize)>processSize[i]:\n",
        "            j = blockSize.index(max(blockSize))\n",
        "            allocation[i]=j\n",
        "            blockSize[j]-=processSize[i]\n",
        "\n",
        "\n",
        "    print(\" Process No. Process Size\t Block no.\")\n",
        "    for i in range(n):\n",
        "        print(\" \", i + 1, \"\t\t \", processSize[i],\n",
        "              \"\t\t \", end=\" \")\n",
        "        if allocation[i] != -1:\n",
        "            print(allocation[i] + 1)\n",
        "        else:\n",
        "            print(\"Not Allocated\")\n",
        "\n",
        "blockSize = [100, 500, 200, 300, 600]\n",
        "processSize = [212, 417, 112, 426]\n",
        "m = len(blockSize)\n",
        "n = len(processSize)\n",
        "WF(blockSize,m, processSize, n)\n"
      ],
      "metadata": {
        "colab": {
          "base_uri": "https://localhost:8080/"
        },
        "id": "L8HBCVd9nHhn",
        "outputId": "ea5248f6-16c4-4069-d166-1268bf9d0ecc"
      },
      "execution_count": null,
      "outputs": [
        {
          "output_type": "stream",
          "name": "stdout",
          "text": [
            "212\n",
            "417\n",
            "112\n",
            "426\n",
            " Process No. Process Size\t Block no.\n",
            "  1 \t\t  212 \t\t  5\n",
            "  2 \t\t  417 \t\t  2\n",
            "  3 \t\t  112 \t\t  5\n",
            "  4 \t\t  426 \t\t  Not Allocated\n"
          ]
        }
      ]
    },
    {
      "cell_type": "markdown",
      "source": [
        "First Fit Memory allocation policy"
      ],
      "metadata": {
        "id": "gze6O5cECAnw"
      }
    },
    {
      "cell_type": "code",
      "source": [
        "# First Fit\n",
        "\n",
        "def FF(blockSize, m, processSize, n):\n",
        "\n",
        "    allocation = [-1] * n\n",
        "    for i in range(n):\n",
        "        for j in range(m):\n",
        "            if blockSize[j] >= processSize[i]:\n",
        "                # allocate block j to p[i] process\n",
        "                allocation[i] = j\n",
        "\n",
        "                # Reduce available memory in this block.\n",
        "                blockSize[j] -= processSize[i]\n",
        "                break\n",
        "\n",
        "    print(\" Process No. Process Size\t Block no.\")\n",
        "    for i in range(n):\n",
        "        print(\" \", i + 1, \"\t\t \", processSize[i],\n",
        "              \"\t\t \", end=\" \")\n",
        "        if allocation[i] != -1:\n",
        "            print(allocation[i] + 1)\n",
        "        else:\n",
        "            print(\"Not Allocated\")\n",
        "\n",
        "\n",
        "blockSize = [100, 500, 200, 300, 600]\n",
        "processSize = [212, 417, 112, 426]\n",
        "m = len(blockSize)\n",
        "n = len(processSize)\n",
        "FF(blockSize, m, processSize, n)"
      ],
      "metadata": {
        "colab": {
          "base_uri": "https://localhost:8080/"
        },
        "id": "o5N6mX1OpSLG",
        "outputId": "f0241993-0236-4c6a-e933-249dcbce49a3"
      },
      "execution_count": null,
      "outputs": [
        {
          "output_type": "stream",
          "name": "stdout",
          "text": [
            " Process No. Process Size\t Block no.\n",
            "  1 \t\t  212 \t\t  2\n",
            "  2 \t\t  417 \t\t  5\n",
            "  3 \t\t  112 \t\t  2\n",
            "  4 \t\t  426 \t\t  Not Allocated\n"
          ]
        }
      ]
    },
    {
      "cell_type": "markdown",
      "source": [
        "Bankers Algorithm"
      ],
      "metadata": {
        "id": "K5PMCpmKCC3h"
      }
    },
    {
      "cell_type": "code",
      "source": [
        "#bankers\n",
        "\n",
        "\t# P0, P1, P2, P3, P4 are the Process names here\n",
        "\tn = 5 # Number of processes\n",
        "\tm = 3 # Number of resources\n",
        "\t\n",
        "\t# Allocation Matrix\n",
        "\talloc = [[0, 1, 0 ],[ 2, 0, 0 ],\n",
        "\t\t\t[3, 0, 2 ],[2, 1, 1] ,[ 0, 0, 2]]\n",
        "\t\n",
        "\t# MAX Matrix\n",
        "\tmax = [[7, 5, 3 ],[3, 2, 2 ],\n",
        "\t\t\t[ 9, 0, 2 ],[2, 2, 2],[4, 3, 3]]\n",
        "\t\n",
        "\tavail = [3, 3, 2] # Available Resources\n",
        "\t\n",
        "\tf = [0]*n #finish\n",
        "\tans = [0]*n\n",
        "\tind = 0 #index\n",
        "\t\n",
        "\t\t\n",
        "\tneed = [[ 0 for i in range(m)]for i in range(n)]\n",
        "\tfor i in range(n):\n",
        "\t\tfor j in range(m):\n",
        "\t\t\tneed[i][j] = max[i][j] - alloc[i][j]\n",
        "\t\n",
        "\tfor k in range(5):\n",
        "\t\tfor i in range(n):\n",
        "\t\t\tif (f[i] == 0):\n",
        "\t\t\t\tflag = 0\n",
        "\t\t\t\tfor j in range(m):\n",
        "\t\t\t\t\tif (need[i][j] > avail[j]):\n",
        "\t\t\t\t\t\tflag = 1\n",
        "\t\t\t\t\t\tbreak\n",
        "\t\t\t\t\n",
        "\t\t\t\tif (flag == 0):\n",
        "\t\t\t\t\tans[ind] = i\n",
        "\t\t\t\t\tind += 1\n",
        "\t\t\t\t\tfor y in range(m):\n",
        "\t\t\t\t\t\tavail[y] += alloc[i][y]\n",
        "\t\t\t\t\tf[i] = 1\n",
        "\t\t\t\t\t\n",
        "\tprint(\"Following is the SAFE Sequence\")\n",
        "\t\n",
        "\tfor i in range(n - 1):\n",
        "\t\tprint(\" P\", ans[i], \" ->\", sep=\"\", end=\"\")\n",
        "\tprint(\" P\", ans[n - 1], sep=\"\")"
      ],
      "metadata": {
        "colab": {
          "base_uri": "https://localhost:8080/"
        },
        "id": "MoiVPTL4pB14",
        "outputId": "8c693fbb-ddcb-4135-f37c-967ec3c0c216"
      },
      "execution_count": null,
      "outputs": [
        {
          "output_type": "stream",
          "name": "stdout",
          "text": [
            "Following is the SAFE Sequence\n",
            " P1 -> P3 -> P4 -> P0 -> P2\n"
          ]
        }
      ]
    },
    {
      "cell_type": "markdown",
      "source": [
        "Optimal Page replacement policy"
      ],
      "metadata": {
        "id": "nwNl8qYmCHtd"
      }
    },
    {
      "cell_type": "code",
      "source": [
        "#optimal\n",
        "\n",
        "def opt(pages,i,frames,n):\n",
        "    arr=[]\n",
        "    for j in range(i,n):\n",
        "        arr.append(pages[j])\n",
        "    \n",
        "\n",
        "    max=0\n",
        "    for f in frames:\n",
        "        if f not in arr:\n",
        "            return f\n",
        "        else:\n",
        "            if arr.index(f) > max:\n",
        "                max = arr.index(f)\n",
        "    return arr[max]\n",
        "    indexes.clear()\n",
        "\n",
        "def Optimal(pages, n, capacity):\n",
        "\n",
        "    frames = set()\n",
        "    page_faults = 0\n",
        "\n",
        "    for i in range(n):\n",
        "      \n",
        "      if len(frames)<capacity:\n",
        "        if pages[i] not in frames:\n",
        "\n",
        "            page_faults += 1\n",
        "            frames.add(pages[i])\n",
        "\n",
        "        elif pages[i] not in frames:\n",
        "            page_faults += 1\n",
        "\n",
        "            #To find page to remove\n",
        "            page = opt(pages,i,frames,n)\n",
        "\n",
        "            frames.remove(page)\n",
        "            frames.add(pages[i])\n",
        "\n",
        "        print(frames)\n",
        "\n",
        "\n",
        "    print(page_faults)\n",
        "\n",
        "\n",
        "pages = [7, 0, 1, 2, 0, 3, 0, 4, 2, 3, 0, 3, 2]\n",
        "n = len(pages)\n",
        "capacity = 4\n",
        "Optimal(pages,n,capacity)\n",
        "\n"
      ],
      "metadata": {
        "colab": {
          "base_uri": "https://localhost:8080/"
        },
        "id": "0QCYo9_IpH4j",
        "outputId": "f0695d49-61e6-4814-ee3c-994ec88c2125"
      },
      "execution_count": null,
      "outputs": [
        {
          "output_type": "stream",
          "name": "stdout",
          "text": [
            "{7}\n",
            "{0, 7}\n",
            "{0, 1, 7}\n",
            "{0, 1, 2, 7}\n",
            "{0, 1, 2, 7}\n",
            "{0, 2, 3, 7}\n",
            "{0, 2, 3, 7}\n",
            "{0, 2, 3, 4}\n",
            "{0, 2, 3, 4}\n",
            "{0, 2, 3, 4}\n",
            "{0, 2, 3, 4}\n",
            "{0, 2, 3, 4}\n",
            "{0, 2, 3, 4}\n",
            "6\n"
          ]
        }
      ]
    },
    {
      "cell_type": "markdown",
      "source": [
        "LRU Page replacement policy"
      ],
      "metadata": {
        "id": "VxXfLgRJCN2Z"
      }
    },
    {
      "cell_type": "code",
      "source": [
        "#lru\n",
        "\n",
        "def pageFaults(pages, n, capacity):\n",
        "\n",
        "\ts = set()\n",
        "\tindexes = {}\n",
        "\tpage_faults = 0\n",
        "\n",
        "\tfor i in range(n):\n",
        "\n",
        "\t\tif len(s) < capacity:\n",
        "\t\t\tif pages[i] not in s:\n",
        "\t\t\t\ts.add(pages[i])\n",
        "\t\t\t\tpage_faults += 1\n",
        "\t\t\tindexes[pages[i]] = i\n",
        "\n",
        "\t\telse:\n",
        "\t\t\tif pages[i] not in s:\n",
        "\t\t\t\tlru = float('inf')\n",
        "\t\t\t\tfor page in s:\n",
        "\t\t\t\t\tif indexes[page] < lru:\n",
        "\t\t\t\t\t\tlru = indexes[page]\n",
        "\t\t\t\t\t\tval = page\n",
        "\t\t\t\ts.remove(val)\n",
        "\t\t\t\ts.add(pages[i])\n",
        "\t\t\t\tpage_faults += 1\n",
        "\n",
        "\t\t\tindexes[pages[i]] = i\n",
        "\n",
        "\t\t\tprint(s)\n",
        "\n",
        "\treturn page_faults\n",
        "\n",
        "\n",
        "pages = [7, 0, 1, 2, 0, 3, 0, 4, 2, 3, 0, 3, 2]\n",
        "n = len(pages)\n",
        "capacity = 4\n",
        "print(\"No of page faults = \",pageFaults(pages, n, capacity))"
      ],
      "metadata": {
        "colab": {
          "base_uri": "https://localhost:8080/"
        },
        "id": "y-h2hZ9qVs-u",
        "outputId": "5e797a86-6eb7-46f8-8bfd-88e41abb9795"
      },
      "execution_count": null,
      "outputs": [
        {
          "output_type": "stream",
          "name": "stdout",
          "text": [
            "{0, 1, 2, 7}\n",
            "{0, 1, 2, 3}\n",
            "{0, 1, 2, 3}\n",
            "{0, 2, 3, 4}\n",
            "{0, 2, 3, 4}\n",
            "{0, 2, 3, 4}\n",
            "{0, 2, 3, 4}\n",
            "{0, 2, 3, 4}\n",
            "{0, 2, 3, 4}\n",
            "No of page faults =  6\n"
          ]
        }
      ]
    },
    {
      "cell_type": "markdown",
      "source": [
        "FIFO Page replacement policy"
      ],
      "metadata": {
        "id": "OY9PpQhDCQ94"
      }
    },
    {
      "cell_type": "code",
      "source": [
        "#fifo\n",
        "from queue import Queue\n",
        "\n",
        "def pageFaults(pages, n, capacity):\n",
        "\n",
        "\ts = set()\n",
        "\tindexes = Queue()\n",
        "\tpage_faults = 0\n",
        "\n",
        "\tfor i in range(n):\n",
        "   \n",
        "\t\tif (len(s) < capacity):\n",
        "\t\t\t\n",
        "\t\t\tif (pages[i] not in s):\n",
        "\t\t\t\ts.add(pages[i])\n",
        "\t\t\t\tpage_faults += 1\n",
        "\t\t\t\tindexes.put(pages[i])\n",
        "    \n",
        "\t\telse:\n",
        "\t\t\tif (pages[i] not in s):\n",
        "\t\t\t\tval = indexes.queue[0]\n",
        "\t\t\t\tindexes.get()\n",
        "\t\t\t\ts.remove(val)\n",
        "\t\t\t\ts.add(pages[i])\n",
        "\t\t\t\tindexes.put(pages[i])\n",
        "\t\t\t\tpage_faults += 1\n",
        "\n",
        "\treturn page_faults\n",
        "\n",
        "\n",
        "\tpages = [7, 0, 1, 2, 0, 3, 0,\n",
        "\t\t\t\t4, 2, 3, 0, 3, 2]\n",
        "\tn = len(pages)\n",
        "\tcapacity = 4\n",
        "\tprint(\"No of Page Faults =\",pageFaults(pages, n, capacity))\n",
        "\n"
      ],
      "metadata": {
        "colab": {
          "base_uri": "https://localhost:8080/"
        },
        "id": "QhN2eQFlhbSy",
        "outputId": "31831fd6-d317-4cc8-f36a-f2f4faf5e9d8"
      },
      "execution_count": null,
      "outputs": [
        {
          "output_type": "stream",
          "name": "stdout",
          "text": [
            "No of Page Faults = 7\n"
          ]
        }
      ]
    }
  ]
}